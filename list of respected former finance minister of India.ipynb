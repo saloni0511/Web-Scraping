{
 "cells": [
  {
   "cell_type": "markdown",
   "id": "2cd4510c",
   "metadata": {},
   "source": [
    "Write s python program to display list of respected former finance minister of India"
   ]
  },
  {
   "cell_type": "markdown",
   "id": "83c73f2c",
   "metadata": {},
   "source": []
  },
  {
   "cell_type": "code",
   "execution_count": null,
   "id": "1eb1d196",
   "metadata": {},
   "outputs": [],
   "source": [
    "from bs4 import BeautifulSoup\n",
    "import requests"
   ]
  },
  {
   "cell_type": "code",
   "execution_count": null,
   "id": "022a5892",
   "metadata": {},
   "outputs": [],
   "source": [
    "page = requests.get('https://presidentofindia.nic.in/former-presidents')\n"
   ]
  },
  {
   "cell_type": "code",
   "execution_count": null,
   "id": "ffcddda4",
   "metadata": {},
   "outputs": [],
   "source": [
    "page"
   ]
  },
  {
   "cell_type": "code",
   "execution_count": null,
   "id": "481b773c",
   "metadata": {},
   "outputs": [],
   "source": [
    "soup = BeautifulSoup(page.content)\n",
    "soup"
   ]
  },
  {
   "cell_type": "code",
   "execution_count": 26,
   "id": "7e86e491",
   "metadata": {},
   "outputs": [
    {
     "data": {
      "text/plain": [
       "['\\n\\n \\n\\n\\nShri Ram Nath Kovind\\n14th President of India\\n\\n\\n',\n",
       " '\\n\\n \\n\\n\\nShri Pranab Mukherjee\\n13th President of India\\n\\n\\n',\n",
       " '\\n\\n \\n\\n\\nSmt Pratibha Devisingh Patil\\n12th President of India\\n\\n\\n',\n",
       " '\\n\\n \\n\\n\\nDR. A.P.J. Abdul Kalam\\n11th President of India\\n\\n\\n',\n",
       " '\\n\\n \\n\\n\\nShri K. R. Narayanan\\n10th President of India\\n\\n\\n',\n",
       " '\\n\\n \\n\\n\\nDr Shankar Dayal Sharma\\n9th  President of India\\n\\n\\n',\n",
       " '\\n\\n \\n\\n\\nShri R Venkataraman\\n8th President of India\\n\\n\\n',\n",
       " '\\n\\n \\n\\n\\nGiani Zail Singh\\n7th President of India\\n\\n\\n',\n",
       " '\\n\\n \\n\\n\\nShri Neelam Sanjiva Reddy\\n6th President of India\\n\\n\\n',\n",
       " '\\n\\n \\n\\n\\nDr. Fakhruddin Ali Ahmed\\n5th President of India\\n\\n\\n',\n",
       " '\\n\\n \\n\\n\\nShri Varahagiri Venkata Giri\\n4th President of India\\n\\n\\n',\n",
       " '\\n\\n \\n\\n\\nDr. Zakir Husain\\n3rd President of India\\n\\n\\n',\n",
       " '\\n\\n \\n\\n\\nDr. Sarvepalli Radhakrishnan\\n2nd President of India\\n\\n\\n',\n",
       " '\\n\\n \\n\\n\\nDr. Rajendra Prasad\\n1st President of India\\n\\n\\n']"
      ]
     },
     "execution_count": 26,
     "metadata": {},
     "output_type": "execute_result"
    }
   ],
   "source": [
    "name = []\n",
    " \n",
    "for i in soup.find_all (\"div\", class_=\"president-listing\"):\n",
    "    name.append(i.text)\n",
    "    \n",
    "name"
   ]
  },
  {
   "cell_type": "code",
   "execution_count": 27,
   "id": "1fda868a",
   "metadata": {},
   "outputs": [
    {
     "data": {
      "text/plain": [
       "[]"
      ]
     },
     "execution_count": 27,
     "metadata": {},
     "output_type": "execute_result"
    }
   ],
   "source": [
    " term= []\n",
    " \n",
    "for i in soup.find_all (\"div\", class_=\"bot-txt\"):\n",
    "    term.append(i.text)\n",
    "    \n",
    "term"
   ]
  },
  {
   "cell_type": "code",
   "execution_count": null,
   "id": "5500274a",
   "metadata": {},
   "outputs": [],
   "source": [
    "term"
   ]
  },
  {
   "cell_type": "code",
   "execution_count": null,
   "id": "5d5622f3",
   "metadata": {},
   "outputs": [],
   "source": []
  }
 ],
 "metadata": {
  "kernelspec": {
   "display_name": "Python 3 (ipykernel)",
   "language": "python",
   "name": "python3"
  },
  "language_info": {
   "codemirror_mode": {
    "name": "ipython",
    "version": 3
   },
   "file_extension": ".py",
   "mimetype": "text/x-python",
   "name": "python",
   "nbconvert_exporter": "python",
   "pygments_lexer": "ipython3",
   "version": "3.11.4"
  }
 },
 "nbformat": 4,
 "nbformat_minor": 5
}
